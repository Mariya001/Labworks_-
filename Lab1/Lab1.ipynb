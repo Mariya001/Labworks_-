{
 "cells": [
  {
   "cell_type": "markdown",
   "metadata": {},
   "source": [
    "# Робота №1\n",
    "### Імітаційне моделювання в теорії надійності. Початковий аналіз вибірки.\n",
    "Роботу виконала\n",
    "Бригада №1\n",
    "у складі: Панчук Ігор(ком.), Шеметов Ярослав та Попович Марія."
   ]
  },
  {
   "cell_type": "markdown",
   "metadata": {},
   "source": [
    "#### Імпорт необхідних бібліотек"
   ]
  },
  {
   "cell_type": "code",
   "execution_count": 3,
   "metadata": {},
   "outputs": [],
   "source": [
    "import pandas as pd\n",
    "import numpy as np\n",
    "from scipy import stats\n",
    "import matplotlib.pyplot as plt"
   ]
  },
  {
   "cell_type": "markdown",
   "metadata": {},
   "source": [
    "### 1. Введення даних"
   ]
  },
  {
   "cell_type": "code",
   "execution_count": 4,
   "metadata": {},
   "outputs": [
    {
     "name": "stdout",
     "output_type": "stream",
     "text": [
      "0      548\n",
      "1      102\n",
      "2      184\n",
      "3       51\n",
      "4       82\n",
      "      ... \n",
      "262    212\n",
      "263    294\n",
      "264    164\n",
      "265     17\n",
      "266    136\n",
      "Name: DAYS AFTER 105, Length: 266, dtype: int64\n"
     ]
    }
   ],
   "source": [
    "df = pd.read_csv('IDL.csv')\n",
    "\n",
    "# Filter rows where the DCOUNTRY column contains 'AUT'\n",
    "df_filtered = df[df['DCOUNTRY'] == 'AUT']\n",
    "\n",
    "# Select the column 'DAYS AFTER 105'\n",
    "X = df_filtered['DAYS AFTER 105']\n",
    "\n",
    "# Display the filtered result\n",
    "print(X)"
   ]
  },
  {
   "cell_type": "markdown",
   "metadata": {},
   "source": [
    "### 2. Моделювання вибірок"
   ]
  },
  {
   "cell_type": "code",
   "execution_count": 5,
   "metadata": {},
   "outputs": [],
   "source": [
    "rand_exp = np.random.exponential(scale=1, size=100)"
   ]
  },
  {
   "cell_type": "code",
   "execution_count": 6,
   "metadata": {},
   "outputs": [],
   "source": [
    "rand_norm = np.random.normal(loc=0, scale=2, size=1000)"
   ]
  },
  {
   "cell_type": "code",
   "execution_count": 7,
   "metadata": {},
   "outputs": [],
   "source": [
    "rand_extrem = stats.genextreme.rvs(c=1, loc=0, scale=1, size=10000)"
   ]
  },
  {
   "cell_type": "markdown",
   "metadata": {},
   "source": [
    "### 3. Основні числові характеристики вибірки"
   ]
  },
  {
   "cell_type": "code",
   "execution_count": 8,
   "metadata": {},
   "outputs": [
    {
     "name": "stdout",
     "output_type": "stream",
     "text": [
      "Mean: 510.109022556391\n",
      "Median: 345.0\n",
      "Mode: 4\n",
      "Std: 472.9342808242429\n",
      "Variance: 223666.83397874385\n",
      "Min: 4\n",
      "Max: 2244\n",
      "Skewness: 1.3197121928507172\n",
      "Kurtosis: 1.398350200941958\n"
     ]
    }
   ],
   "source": [
    "# Mean, standard deviation, variance\n",
    "mean = np.mean(X)\n",
    "std = np.std(X)\n",
    "variance = np.var(X)\n",
    "\n",
    "# Median and mode\n",
    "median = np.median(X)\n",
    "mode_result = stats.mode(X, keepdims=True)\n",
    "mode = mode_result.mode[0]\n",
    "\n",
    "# Min and max\n",
    "min_val = np.min(X)\n",
    "max_val = np.max(X)\n",
    "\n",
    "# Skewness and Kurtosis\n",
    "skewness = stats.skew(X)\n",
    "kurtosis = stats.kurtosis(X)\n",
    "\n",
    "print(f\"Mean: {mean}\\nMedian: {median}\\nMode: {mode}\")\n",
    "print(f\"Std: {std}\\nVariance: {variance}\\nMin: {min_val}\\nMax: {max_val}\")\n",
    "print(f\"Skewness: {skewness}\\nKurtosis: {kurtosis}\")"
   ]
  },
  {
   "cell_type": "markdown",
   "metadata": {},
   "source": [
    "### 4. Побудова довірчих інтервалів для Mξ та σξ"
   ]
  },
  {
   "cell_type": "code",
   "execution_count": 9,
   "metadata": {},
   "outputs": [
    {
     "name": "stdout",
     "output_type": "stream",
     "text": [
      "Mean confidence interval: (np.float64(452.9066645976236), np.float64(567.3113805151584))\n",
      "Standard deviation confidence interval: (np.float64(416.09925676162567), np.float64(529.7693048868601))\n"
     ]
    }
   ],
   "source": [
    "# Confidence interval for the mean\n",
    "confidence_level = 0.95\n",
    "n = len(X)\n",
    "mean_conf_interval = stats.t.interval(confidence_level, n-1, loc=np.mean(X), scale=stats.sem(X))\n",
    "\n",
    "# Confidence interval for the standard deviation\n",
    "std_conf_interval = (np.std(X) - 1.96*np.std(X)/np.sqrt(n), np.std(X) + 1.96*np.std(X)/np.sqrt(n))\n",
    "\n",
    "print(f\"Mean confidence interval: {mean_conf_interval}\")\n",
    "print(f\"Standard deviation confidence interval: {std_conf_interval}\")"
   ]
  },
  {
   "cell_type": "markdown",
   "metadata": {},
   "source": [
    "### 5. Перевірити гіпотези H1={Mξ=110}, H2={med=110}"
   ]
  },
  {
   "cell_type": "code",
   "execution_count": 10,
   "metadata": {},
   "outputs": [
    {
     "name": "stdout",
     "output_type": "stream",
     "text": [
      "H1 test p-value: 6.496831258196394e-33\n",
      "H2 test p-value: 1.0576318945921128e-34\n"
     ]
    }
   ],
   "source": [
    "# Hypothesis test for mean\n",
    "t_stat, p_value_mean = stats.ttest_1samp(X, 110)\n",
    "\n",
    "# Hypothesis test for median (non-parametric)\n",
    "p_value_median = stats.wilcoxon(X - 110)[1]\n",
    "\n",
    "print(f\"H1 test p-value: {p_value_mean}\")\n",
    "print(f\"H2 test p-value: {p_value_median}\")"
   ]
  },
  {
   "cell_type": "markdown",
   "metadata": {},
   "source": [
    "### 6. Провести групування вибіркових даних , вибираючи число інтервалов групування К = 10 –12 та побудувати таблицю групування-частоти"
   ]
  },
  {
   "cell_type": "code",
   "execution_count": 11,
   "metadata": {},
   "outputs": [
    {
     "name": "stdout",
     "output_type": "stream",
     "text": [
      "Bins: [   4.  228.  452.  676.  900. 1124. 1348. 1572. 1796. 2020. 2244.]\n",
      "Frequencies: [95 65 30 22 22 13 10  3  3  3]\n"
     ]
    }
   ],
   "source": [
    "num_bins = 10\n",
    "freq, bins = np.histogram(X, bins=num_bins)\n",
    "\n",
    "# Create a frequency table\n",
    "print(\"Bins:\", bins)\n",
    "print(\"Frequencies:\", freq)"
   ]
  },
  {
   "cell_type": "markdown",
   "metadata": {},
   "source": [
    "### 7. Представити дані в графічному вигляді : гістограмa, полігон, normal probability plot"
   ]
  },
  {
   "cell_type": "code",
   "execution_count": 12,
   "metadata": {},
   "outputs": [
    {
     "data": {
      "image/png": "[encoded data removed]",
      "text/plain": [
       "<Figure size 640x480 with 1 Axes>"
      ]
     },
     "metadata": {},
     "output_type": "display_data"
    }
   ],
   "source": [
    "import matplotlib.pyplot as plt\n",
    "\n",
    "plt.hist(X, bins=10, edgecolor='black')\n",
    "plt.title('Histogram')\n",
    "plt.show()"
   ]
  },
  {
   "cell_type": "code",
   "execution_count": 13,
   "metadata": {},
   "outputs": [
    {
     "data": {
      "image/png": "[encoded data removed]",
      "text/plain": [
       "<Figure size 640x480 with 1 Axes>"
      ]
     },
     "metadata": {},
     "output_type": "display_data"
    }
   ],
   "source": [
    "stats.probplot(X, dist=\"norm\", plot=plt)\n",
    "plt.title('Normal Probability Plot')\n",
    "plt.show()"
   ]
  }
 ],
 "metadata": {
  "kernelspec": {
   "display_name": "Python 3",
   "language": "python",
   "name": "python3"
  },
  "language_info": {
   "codemirror_mode": {
    "name": "ipython",
    "version": 3
   },
   "file_extension": ".py",
   "mimetype": "text/x-python",
   "name": "python",
   "nbconvert_exporter": "python",
   "pygments_lexer": "ipython3",
   "version": "3.12.4"
  }
 },
 "nbformat": 4,
 "nbformat_minor": 2
}
